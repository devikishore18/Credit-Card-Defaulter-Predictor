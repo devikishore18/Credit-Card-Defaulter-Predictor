{
 "cells": [
  {
   "cell_type": "markdown",
   "id": "ae9688b0-f3fb-4749-bc92-8e40c7d2ceea",
   "metadata": {},
   "source": [
    "# Credit Card Default Prediction – Final Project Report\n"
   ]
  },
  {
   "cell_type": "markdown",
   "id": "23e8a08c-5a24-47e9-89d8-79899d752d6f",
   "metadata": {},
   "source": [
    "## Dataset Overview\n",
    "- Source: From UCI ML Repository, link: https://archive.ics.uci.edu/dataset/350/default+of+credit+card+clients\n",
    "- Instances: 30,000 credit card clients\n",
    "- Target: Whether a client defaults on payment in the next month (target: 1 = Yes, 0 = No)"
   ]
  },
  {
   "cell_type": "markdown",
   "id": "f03469c2-cd39-4dee-9b62-b83c7ec4da30",
   "metadata": {},
   "source": [
    "## Objective\n",
    "To build a classification model that accurately predicts if a credit card customer will default in the following month, based on historical billing and payment data, demographics, and repayment status.\n",
    "\n"
   ]
  },
  {
   "cell_type": "markdown",
   "id": "b7a2b9c9-ecf5-442c-9bd4-91faba2b821b",
   "metadata": {},
   "source": [
    "## Exploratory Data Analysis (EDA)"
   ]
  },
  {
   "cell_type": "markdown",
   "id": "d26c007d-7218-4cb0-be84-e261f2a92035",
   "metadata": {},
   "source": [
    "### Key Steps Taken\n",
    "- Renamed columns for clarity (PAY_0 → SEP_PAY, etc.)\n",
    "- Created new features: total_bill, total_payment (later dropped for modeling)\n",
    "- Examined default distribution:\n",
    "\n",
    "    - No: 23,364 (77.88%)\n",
    "    - Yes: 6,636 (22.12%) → Class Imbalance"
   ]
  },
  {
   "cell_type": "markdown",
   "id": "3b92b17e-c8e8-4b71-be81-af19a265b4c4",
   "metadata": {},
   "source": [
    "## Univariate & Bivariate Insights\n",
    "- Most bill and payment variables showed positive skewness\n",
    "- Repayment status (PAY_*) was moderately positively correlated with defaulting\n",
    "- Payment amounts and credit limit had negative correlation with defaults"
   ]
  },
  {
   "cell_type": "markdown",
   "id": "9dd937be-be7e-4b6e-9d99-52f7cec4f455",
   "metadata": {},
   "source": [
    "## Correlation Analysis\n",
    "Strongest positive correlations with default:\n",
    "- SEP_PAY: 0.29\n",
    "- AUG_PAY: 0.23\n",
    "\n",
    "Strongest negative correlations:\n",
    "- LIMIT_BAL: -0.15\n",
    "- SEP_PAYMENT: -0.14"
   ]
  },
  {
   "cell_type": "markdown",
   "id": "3ebbce74-1773-4a25-81be-27f2aee5a312",
   "metadata": {},
   "source": [
    "## Data Preprocessing\n",
    "- Handled outliers using IQR capping\n",
    "- Addressed skewness via transformations using Power Transformer\n",
    "- One-hot encoding applied to EDUCATION and MARRIAGE\n",
    "- Final selected features using selectKbest: 'LIMIT_BAL', 'SEX', 'SEP_PAY', 'AUG_PAY', 'JUL_PAY', 'JUN_PAY',\n",
    "'MAY_PAY', 'APR_PAY', 'SEP_BILL', 'AUG_BILL', 'JUL_BILL', 'JUN_BILL',\n",
    "'SEP_PAYMENT', 'AUG_PAYMENT', 'JUL_PAYMENT', 'JUN_PAYMENT',\n",
    "'MAY_PAYMENT', 'APR_PAYMENT', 'EDUCATION_HIGH_SCHOOL',\n",
    "'EDUCATION_OTHERS', 'EDUCATION_PG', 'EDUCATION_UG', \n",
    "'MARRIAGE_MARRIED', 'MARRIAGE_SINGLE'\n"
   ]
  },
  {
   "cell_type": "markdown",
   "id": "db8acc79-aaf8-4dcc-a0cd-34155b3c079e",
   "metadata": {},
   "source": [
    "## Model Building & Hyperparameter Tuning\n",
    "| Model               | Accuracy | Precision | Recall | F1-score |\n",
    "| ------------------- | -------- | --------- | ------ | -------- |\n",
    "| Logistic Regression | 0.68     | 0.69      | 0.68   | 0.68     |\n",
    "| Decision Tree       | 0.82     | 0.81      | 0.83   | 0.82     |\n",
    "| **Random Forest**   | **0.88** | **0.93**  | 0.83   | 0.88     |\n",
    "| AdaBoost            | 0.86     | 0.93      | 0.78   | 0.85     |\n",
    "| Gradient Boosting   | 0.87     | 0.94      | 0.80   | 0.86     |\n"
   ]
  },
  {
   "cell_type": "markdown",
   "id": "6c301d86-7bf2-42da-8b2a-2262afea2b4a",
   "metadata": {},
   "source": [
    " Best model after tuning: Random Forest Classifier\n",
    "\n"
   ]
  },
  {
   "cell_type": "markdown",
   "id": "0a2791d0-e02d-4e64-8215-f6ec57142832",
   "metadata": {},
   "source": [
    "## Evaluation on Test Set\n"
   ]
  },
  {
   "cell_type": "markdown",
   "id": "66e1cdaf-57e0-4e51-8514-188950028000",
   "metadata": {},
   "source": [
    "### Accuracy: ~88%\n",
    "\n"
   ]
  },
  {
   "cell_type": "markdown",
   "id": "84b5e8d6-8b43-47de-93a5-9b2687170d91",
   "metadata": {},
   "source": [
    "## Pipeline Deployment"
   ]
  },
  {
   "cell_type": "markdown",
   "id": "22ea8f3a-3abd-4d71-aa13-2d1ded291e83",
   "metadata": {},
   "source": [
    "- Created a pipeline using StandardScaler + RandomForestClassifier\n",
    "- Saved using joblib\n",
    "- Loaded to predict new unseen data\n",
    "- Prediction possible using a single-line input array matching selected features\n",
    "\n"
   ]
  },
  {
   "cell_type": "markdown",
   "id": "62ab9686-d10d-4973-a2f1-121bb3daf82e",
   "metadata": {},
   "source": [
    "## Final Inferences\n",
    "- Customers with high PAY_* values (delays in repayment) were more likely to default.\n",
    "- Higher credit limits and higher repayment amounts correlated with lower default risk.\n",
    "- Skewed data and class imbalance were handled to enhance model robustness.\n",
    "- Random Forest outperformed other classifiers in terms of precision and balance between recall and accuracy.\n",
    "- The pipeline is reusable and deployable for real-time prediction."
   ]
  },
  {
   "cell_type": "code",
   "execution_count": null,
   "id": "cfb7f33f-b76c-4308-8fb7-43be1b1745ac",
   "metadata": {},
   "outputs": [],
   "source": []
  }
 ],
 "metadata": {
  "kernelspec": {
   "display_name": "Python 3 (ipykernel)",
   "language": "python",
   "name": "python3"
  },
  "language_info": {
   "codemirror_mode": {
    "name": "ipython",
    "version": 3
   },
   "file_extension": ".py",
   "mimetype": "text/x-python",
   "name": "python",
   "nbconvert_exporter": "python",
   "pygments_lexer": "ipython3",
   "version": "3.13.1"
  }
 },
 "nbformat": 4,
 "nbformat_minor": 5
}
